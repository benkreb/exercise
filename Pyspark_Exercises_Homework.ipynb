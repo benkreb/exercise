{
  "cells": [
    {
      "cell_type": "code",
      "source": [
        "! pip install pyspark py4j"
      ],
      "metadata": {
        "colab": {
          "base_uri": "https://localhost:8080/"
        },
        "id": "lQa2QE3kac84",
        "outputId": "f1dad30a-430e-4e9e-f975-d640bed11aff"
      },
      "id": "lQa2QE3kac84",
      "execution_count": null,
      "outputs": [
        {
          "output_type": "stream",
          "name": "stdout",
          "text": [
            "Collecting pyspark\n",
            "  Downloading pyspark-3.4.1.tar.gz (310.8 MB)\n",
            "\u001b[2K     \u001b[90m━━━━━━━━━━━━━━━━━━━━━━━━━━━━━━━━━━━━━━━\u001b[0m \u001b[32m310.8/310.8 MB\u001b[0m \u001b[31m5.2 MB/s\u001b[0m eta \u001b[36m0:00:00\u001b[0m\n",
            "\u001b[?25h  Preparing metadata (setup.py) ... \u001b[?25l\u001b[?25hdone\n",
            "Requirement already satisfied: py4j in /usr/local/lib/python3.10/dist-packages (0.10.9.7)\n",
            "Building wheels for collected packages: pyspark\n",
            "  Building wheel for pyspark (setup.py) ... \u001b[?25l\u001b[?25hdone\n",
            "  Created wheel for pyspark: filename=pyspark-3.4.1-py2.py3-none-any.whl size=311285387 sha256=ebe706c62ad0a7029613118b4a95e50fb04d765498bed116fea6bd1686719ef1\n",
            "  Stored in directory: /root/.cache/pip/wheels/0d/77/a3/ff2f74cc9ab41f8f594dabf0579c2a7c6de920d584206e0834\n",
            "Successfully built pyspark\n",
            "Installing collected packages: pyspark\n",
            "Successfully installed pyspark-3.4.1\n"
          ]
        }
      ]
    },
    {
      "cell_type": "code",
      "source": [
        "! pip install findspark"
      ],
      "metadata": {
        "colab": {
          "base_uri": "https://localhost:8080/"
        },
        "id": "rIdCB_5facwc",
        "outputId": "df194844-1980-4f82-88b7-d46bec3a0749"
      },
      "id": "rIdCB_5facwc",
      "execution_count": null,
      "outputs": [
        {
          "output_type": "stream",
          "name": "stdout",
          "text": [
            "Collecting findspark\n",
            "  Downloading findspark-2.0.1-py2.py3-none-any.whl (4.4 kB)\n",
            "Installing collected packages: findspark\n",
            "Successfully installed findspark-2.0.1\n"
          ]
        }
      ]
    },
    {
      "cell_type": "code",
      "source": [
        "import findspark\n",
        "findspark.init()"
      ],
      "metadata": {
        "id": "vlYoIapUackL"
      },
      "id": "vlYoIapUackL",
      "execution_count": null,
      "outputs": []
    },
    {
      "cell_type": "code",
      "execution_count": null,
      "id": "9d867484",
      "metadata": {
        "id": "9d867484"
      },
      "outputs": [],
      "source": [
        "import pyspark\n",
        "from pyspark.sql import SparkSession\n",
        "from pyspark.sql.functions import *\n",
        "from pyspark.sql.types import *"
      ]
    },
    {
      "cell_type": "code",
      "execution_count": null,
      "id": "18cf8dbd",
      "metadata": {
        "id": "18cf8dbd"
      },
      "outputs": [],
      "source": [
        "spark = SparkSession.builder.master(\"local[*]\").appName(\"Datamanipulation\").getOrCreate()"
      ]
    },
    {
      "cell_type": "code",
      "execution_count": null,
      "id": "9e64796c",
      "metadata": {
        "colab": {
          "base_uri": "https://localhost:8080/",
          "height": 219
        },
        "id": "9e64796c",
        "outputId": "aa8f6f78-def0-4132-e7e5-d5f9acd2b1f7"
      },
      "outputs": [
        {
          "output_type": "execute_result",
          "data": {
            "text/plain": [
              "<pyspark.sql.session.SparkSession at 0x7e3d043712a0>"
            ],
            "text/html": [
              "\n",
              "            <div>\n",
              "                <p><b>SparkSession - in-memory</b></p>\n",
              "                \n",
              "        <div>\n",
              "            <p><b>SparkContext</b></p>\n",
              "\n",
              "            <p><a href=\"http://0c6dc8dac214:4040\">Spark UI</a></p>\n",
              "\n",
              "            <dl>\n",
              "              <dt>Version</dt>\n",
              "                <dd><code>v3.4.1</code></dd>\n",
              "              <dt>Master</dt>\n",
              "                <dd><code>local[*]</code></dd>\n",
              "              <dt>AppName</dt>\n",
              "                <dd><code>Datamanipulation</code></dd>\n",
              "            </dl>\n",
              "        </div>\n",
              "        \n",
              "            </div>\n",
              "        "
            ]
          },
          "metadata": {},
          "execution_count": 6
        }
      ],
      "source": [
        "spark"
      ]
    },
    {
      "cell_type": "code",
      "execution_count": null,
      "id": "1cb29770",
      "metadata": {
        "id": "1cb29770"
      },
      "outputs": [],
      "source": [
        "# read our data - lives in a csv file\n",
        "\n",
        "df = spark.read.option(\"header\",\"true\").csv(\"/Sample - EU Superstore.csv\")"
      ]
    },
    {
      "cell_type": "code",
      "execution_count": null,
      "id": "6c800030",
      "metadata": {
        "colab": {
          "base_uri": "https://localhost:8080/"
        },
        "id": "6c800030",
        "outputId": "31c66b9e-ee17-439f-cf02-60f3c8d723d6"
      },
      "outputs": [
        {
          "output_type": "stream",
          "name": "stdout",
          "text": [
            "+------+---------------+----------+----------+--------------+-----------+----------------+-----------+-------------+--------------------+--------------+-------+---------------+---------------+------------+--------------------+--------+--------+--------+-------+\n",
            "|Row ID|       Order ID|Order Date| Ship Date|     Ship Mode|Customer ID|   Customer Name|    Segment|         City|               State|       Country| Region|     Product ID|       Category|Sub-Category|        Product Name|   Sales|Quantity|Discount| Profit|\n",
            "+------+---------------+----------+----------+--------------+-----------+----------------+-----------+-------------+--------------------+--------------+-------+---------------+---------------+------------+--------------------+--------+--------+--------+-------+\n",
            "|     1|ES-2017-1311038|07/02/2017|11/02/2017|Standard Class|   AS-10045|  Aaron Smayling|  Corporate|        Leeds|             England|United Kingdom|  North|OFF-ST-10000988|Office Supplies|     Storage|Fellowes Folders,...|    79.2|       3|       0|   39.6|\n",
            "|     2|ES-2017-1311038|07/02/2017|11/02/2017|Standard Class|   AS-10045|  Aaron Smayling|  Corporate|        Leeds|             England|United Kingdom|  North|TEC-AC-10004144|     Technology| Accessories|SanDisk Numeric K...|  388.92|       7|       0|      0|\n",
            "|     3|ES-2017-1311038|07/02/2017|11/02/2017|Standard Class|   AS-10045|  Aaron Smayling|  Corporate|        Leeds|             England|United Kingdom|  North|OFF-LA-10001915|Office Supplies|      Labels|Avery Legal Exhib...|   35.19|       3|       0|  16.11|\n",
            "|     4|ES-2017-1311038|07/02/2017|11/02/2017|Standard Class|   AS-10045|  Aaron Smayling|  Corporate|        Leeds|             England|United Kingdom|  North|OFF-ST-10004550|Office Supplies|     Storage|Fellowes Folders,...|   50.94|       2|       0|   13.2|\n",
            "|     5|ES-2017-1311038|07/02/2017|11/02/2017|Standard Class|   AS-10045|  Aaron Smayling|  Corporate|        Leeds|             England|United Kingdom|  North|TEC-AC-10004068|     Technology| Accessories|Memorex Memory Ca...|  307.44|       3|       0|  73.71|\n",
            "|     6|ES-2017-1311038|07/02/2017|11/02/2017|Standard Class|   AS-10045|  Aaron Smayling|  Corporate|        Leeds|             England|United Kingdom|  North|OFF-ST-10002271|Office Supplies|     Storage|Rogers Shelving, ...|   122.4|       2|       0|  37.92|\n",
            "|     7|ES-2017-1311038|07/02/2017|11/02/2017|Standard Class|   AS-10045|  Aaron Smayling|  Corporate|        Leeds|             England|United Kingdom|  North|TEC-PH-10003963|     Technology|      Phones|Apple Signal Boos...|  413.82|       3|       0|  20.61|\n",
            "|     8|ES-2015-5113958|02/08/2015|07/08/2015|  Second Class|   EB-13840|   Ellis Ballard|  Corporate|West Bromwich|             England|United Kingdom|  North|TEC-CO-10004325|     Technology|     Copiers|Canon Personal Co...|  428.22|       3|       0| 192.69|\n",
            "|     9|ES-2015-5113958|02/08/2015|07/08/2015|  Second Class|   EB-13840|   Ellis Ballard|  Corporate|West Bromwich|             England|United Kingdom|  North|OFF-AP-10004512|Office Supplies|  Appliances|   Hoover Stove, Red| 3979.29|       7|       0|1989.54|\n",
            "|    10|ES-2015-5113958|02/08/2015|07/08/2015|  Second Class|   EB-13840|   Ellis Ballard|  Corporate|West Bromwich|             England|United Kingdom|  North|OFF-FA-10002393|Office Supplies|   Fasteners|Accos Push Pins, ...|   43.56|       3|       0|   12.6|\n",
            "|    11|ES-2015-2510515|20/06/2015|20/06/2015|      Same Day|   LH-17155|Logan Haushalter|   Consumer|   Le Bouscat|Aquitaine-Limousi...|        France|Central|OFF-LA-10002805|Office Supplies|      Labels|Hon Color Coded L...|   25.26|       2|       0|   0.48|\n",
            "|    12|ES-2015-2510515|20/06/2015|20/06/2015|      Same Day|   LH-17155|Logan Haushalter|   Consumer|   Le Bouscat|Aquitaine-Limousi...|        France|Central|OFF-AP-10002330|Office Supplies|  Appliances|Hamilton Beach St...|2443.905|       5|     0.1|760.305|\n",
            "|    13|ES-2015-2510515|20/06/2015|20/06/2015|      Same Day|   LH-17155|Logan Haushalter|   Consumer|   Le Bouscat|Aquitaine-Limousi...|        France|Central|OFF-AR-10000505|Office Supplies|         Art|Binney & Smith Pe...|   12.21|       1|       0|      0|\n",
            "|    14|ES-2015-2510515|20/06/2015|20/06/2015|      Same Day|   LH-17155|Logan Haushalter|   Consumer|   Le Bouscat|Aquitaine-Limousi...|        France|Central|TEC-PH-10002898|     Technology|      Phones|Samsung Smart Pho...|2167.296|       4|    0.15|790.416|\n",
            "|    15|ES-2015-2510515|20/06/2015|20/06/2015|      Same Day|   LH-17155|Logan Haushalter|   Consumer|   Le Bouscat|Aquitaine-Limousi...|        France|Central|OFF-ST-10001413|Office Supplies|     Storage|Rogers Folders, Blue| 138.105|       5|     0.1|-12.345|\n",
            "|    16|ES-2016-4380115|16/02/2016|20/02/2016|Standard Class|   KC-16540| Kelly Collister|   Consumer|   Strasbourg|Alsace-Champagne-...|        France|Central|OFF-ST-10003931|Office Supplies|     Storage|Smead Trays, Wire...| 128.385|       3|     0.1|  4.275|\n",
            "|    17|ES-2016-4380115|16/02/2016|20/02/2016|Standard Class|   KC-16540| Kelly Collister|   Consumer|   Strasbourg|Alsace-Champagne-...|        France|Central|TEC-AC-10004269|     Technology| Accessories|Belkin Memory Car...|  690.12|       6|       0|      0|\n",
            "|    18|ES-2016-4380115|16/02/2016|20/02/2016|Standard Class|   KC-16540| Kelly Collister|   Consumer|   Strasbourg|Alsace-Champagne-...|        France|Central|OFF-LA-10001676|Office Supplies|      Labels|Hon Removable Lab...|    8.16|       1|       0|   1.14|\n",
            "|    19|ES-2017-2573330|03/11/2017|08/11/2017|Standard Class|   BF-11170|      Ben Ferrer|Home Office|         Unna|North Rhine-Westp...|       Germany|Central|TEC-MA-10000811|     Technology|    Machines|Okidata Phone, Du...|  347.88|       4|       0|  76.44|\n",
            "|    20|ES-2017-2573330|03/11/2017|08/11/2017|Standard Class|   BF-11170|      Ben Ferrer|Home Office|         Unna|North Rhine-Westp...|       Germany|Central|OFF-ST-10000648|Office Supplies|     Storage|Eldon File Cart, ...| 575.505|       5|     0.1| 12.705|\n",
            "+------+---------------+----------+----------+--------------+-----------+----------------+-----------+-------------+--------------------+--------------+-------+---------------+---------------+------------+--------------------+--------+--------+--------+-------+\n",
            "only showing top 20 rows\n",
            "\n"
          ]
        }
      ],
      "source": [
        "# how many rows of the EU Superstore dataset have the country being France\n",
        "df.show()"
      ]
    },
    {
      "cell_type": "code",
      "source": [
        "df.select(\"Country\", when(df.Country == \"France\", 1).otherwise(0)).show()"
      ],
      "metadata": {
        "colab": {
          "base_uri": "https://localhost:8080/"
        },
        "id": "wM3udbSdbNa3",
        "outputId": "bb7d8511-85ba-49f3-acff-4f58a2b54e46"
      },
      "id": "wM3udbSdbNa3",
      "execution_count": null,
      "outputs": [
        {
          "output_type": "stream",
          "name": "stdout",
          "text": [
            "+--------------+----------------------------------------------+\n",
            "|       Country|CASE WHEN (Country = France) THEN 1 ELSE 0 END|\n",
            "+--------------+----------------------------------------------+\n",
            "|United Kingdom|                                             0|\n",
            "|United Kingdom|                                             0|\n",
            "|United Kingdom|                                             0|\n",
            "|United Kingdom|                                             0|\n",
            "|United Kingdom|                                             0|\n",
            "|United Kingdom|                                             0|\n",
            "|United Kingdom|                                             0|\n",
            "|United Kingdom|                                             0|\n",
            "|United Kingdom|                                             0|\n",
            "|United Kingdom|                                             0|\n",
            "|        France|                                             1|\n",
            "|        France|                                             1|\n",
            "|        France|                                             1|\n",
            "|        France|                                             1|\n",
            "|        France|                                             1|\n",
            "|        France|                                             1|\n",
            "|        France|                                             1|\n",
            "|        France|                                             1|\n",
            "|       Germany|                                             0|\n",
            "|       Germany|                                             0|\n",
            "+--------------+----------------------------------------------+\n",
            "only showing top 20 rows\n",
            "\n"
          ]
        }
      ]
    },
    {
      "cell_type": "code",
      "execution_count": null,
      "id": "648e5f8a",
      "metadata": {
        "colab": {
          "base_uri": "https://localhost:8080/"
        },
        "id": "648e5f8a",
        "outputId": "f29c7a93-08d0-478e-8989-ff88ca1e7ca0"
      },
      "outputs": [
        {
          "output_type": "stream",
          "name": "stdout",
          "text": [
            "+-------+----------------------------------------+\n",
            "| Profit|CASE WHEN (Profit > 0) THEN 1 ELSE 0 END|\n",
            "+-------+----------------------------------------+\n",
            "|   39.6|                                       1|\n",
            "|      0|                                       0|\n",
            "|  16.11|                                       1|\n",
            "|   13.2|                                       1|\n",
            "|  73.71|                                       1|\n",
            "|  37.92|                                       1|\n",
            "|  20.61|                                       1|\n",
            "| 192.69|                                       1|\n",
            "|1989.54|                                       1|\n",
            "|   12.6|                                       1|\n",
            "|   0.48|                                       0|\n",
            "|760.305|                                       1|\n",
            "|      0|                                       0|\n",
            "|790.416|                                       1|\n",
            "|-12.345|                                       0|\n",
            "|  4.275|                                       1|\n",
            "|      0|                                       0|\n",
            "|   1.14|                                       1|\n",
            "|  76.44|                                       1|\n",
            "| 12.705|                                       1|\n",
            "+-------+----------------------------------------+\n",
            "only showing top 20 rows\n",
            "\n"
          ]
        }
      ],
      "source": [
        "# of those, how many are profitable?\n",
        "\n",
        "df.select(\"Profit\", when(df.Profit > 0, 1).otherwise(0)).show()"
      ]
    },
    {
      "cell_type": "code",
      "execution_count": null,
      "id": "ca611b93",
      "metadata": {
        "colab": {
          "base_uri": "https://localhost:8080/"
        },
        "id": "ca611b93",
        "outputId": "8ae9d79f-1352-4989-80d4-f8894412c3ec"
      },
      "outputs": [
        {
          "output_type": "stream",
          "name": "stdout",
          "text": [
            "+--------+-----+\n",
            "|Discount|total|\n",
            "+--------+-----+\n",
            "|     0.3|   51|\n",
            "|     0.7|    6|\n",
            "|       0| 6134|\n",
            "|     0.2|  125|\n",
            "|    0.15|  407|\n",
            "|    0.35|   45|\n",
            "|     0.8|    4|\n",
            "|    0.45|    2|\n",
            "|     0.5| 1080|\n",
            "|    0.65|   17|\n",
            "|     0.6|  116|\n",
            "|     0.1| 1737|\n",
            "|    0.85|    2|\n",
            "|     0.4|  274|\n",
            "+--------+-----+\n",
            "\n"
          ]
        }
      ],
      "source": [
        "# how any different discount brackets exist? what are they?\n",
        "grouped_df = df.groupBy(\"Discount\").agg(count(\"Sales\").alias(\"total\"))\n",
        "grouped_df.show()"
      ]
    },
    {
      "cell_type": "code",
      "execution_count": null,
      "id": "b2e1f9f0",
      "metadata": {
        "colab": {
          "base_uri": "https://localhost:8080/"
        },
        "id": "b2e1f9f0",
        "outputId": "377ad623-11e7-4fb6-df70-72341f8bb4da"
      },
      "outputs": [
        {
          "output_type": "stream",
          "name": "stdout",
          "text": [
            "+--------+-------------------+\n",
            "|Discount|              total|\n",
            "+--------+-------------------+\n",
            "|       0| 383806.53000000026|\n",
            "|     0.1|  126884.0309999999|\n",
            "|    0.15| 24677.563499999975|\n",
            "|     0.2| 2189.5499999999984|\n",
            "|     0.8|           -460.284|\n",
            "|     0.3| -758.4209999999999|\n",
            "|    0.45|         -1103.1915|\n",
            "|    0.85|          -3068.658|\n",
            "|     0.7|          -5496.765|\n",
            "|    0.65| -6221.965499999999|\n",
            "|    0.35|          -9122.649|\n",
            "|     0.6|-20517.456000000002|\n",
            "|     0.4|-21346.427999999996|\n",
            "|     0.5|         -96632.115|\n",
            "+--------+-------------------+\n",
            "\n"
          ]
        }
      ],
      "source": [
        "# let's see the totl profit by discount bracket, make sure they are ordered by\n",
        "a = df.groupBy(\"Discount\").agg(sum(\"Profit\").alias(\"total\"))\n",
        "a.orderBy(col(\"total\").desc()).show()"
      ]
    },
    {
      "cell_type": "code",
      "execution_count": null,
      "id": "aae94ee1",
      "metadata": {
        "colab": {
          "base_uri": "https://localhost:8080/"
        },
        "id": "aae94ee1",
        "outputId": "cede8fa1-dc45-4a38-c79f-639bf311523c"
      },
      "outputs": [
        {
          "output_type": "stream",
          "name": "stdout",
          "text": [
            "+------+---------------+----------+----------+--------------+-----------+-------------------+-----------+---------------+--------------------+--------------+-------+---------------+---------------+------------+--------------------+-------+--------+--------+------+\n",
            "|Row ID|       Order ID|Order Date| Ship Date|     Ship Mode|Customer ID|      Customer Name|    Segment|           City|               State|       Country| Region|     Product ID|       Category|Sub-Category|        Product Name|  Sales|Quantity|Discount|Profit|\n",
            "+------+---------------+----------+----------+--------------+-----------+-------------------+-----------+---------------+--------------------+--------------+-------+---------------+---------------+------------+--------------------+-------+--------+--------+------+\n",
            "|  6073|ES-2017-1694278|19/08/2017|22/08/2017|   First Class|   JG-15805|         John Grady|  Corporate|         Berlin|              Berlin|       Germany|Central|OFF-ST-10000288|Office Supplies|     Storage|Fellowes Lockers,...|332.496|       2|     0.2|99.696|\n",
            "|  1029|ES-2015-4445402|03/02/2015|07/02/2015|Standard Class|   JB-16000|          Joy Bell-|   Consumer|   Saint-Priest|Auvergne-Rhône-Alpes|        France|Central|FUR-BO-10004585|      Furniture|   Bookcases|Ikea 3-Shelf Cabi...|256.392|       2|     0.1|99.672|\n",
            "|  3996|ES-2016-2522918|16/11/2016|19/11/2016|   First Class|   ME-18010|   Michelle Ellison|  Corporate|          Dreux| Centre-Val de Loire|        France|Central|OFF-ST-10003153|Office Supplies|     Storage|Tenex File Cart, ...|242.298|       2|     0.1|99.558|\n",
            "|  8579|IT-2015-2498718|31/07/2015|05/08/2015|Standard Class|   MH-17620|    Matt Hagelstein|  Corporate|      Bielefeld|North Rhine-Westp...|       Germany|Central|OFF-ST-10003153|Office Supplies|     Storage|Tenex File Cart, ...|242.298|       2|     0.1|99.558|\n",
            "|  5595|ES-2015-5560916|07/07/2015|14/07/2015|Standard Class|   BS-11800|      Bryan Spruell|Home Office|     Frontignan|Languedoc-Roussil...|        France|Central|FUR-FU-10000907|      Furniture| Furnishings|Eldon Clock, Duo ...| 226.32|       4|       0| 99.48|\n",
            "|  5583|ES-2015-1233460|25/12/2015|29/12/2015|Standard Class|   RA-19285|       Ralph Arnett|   Consumer|         Getafe|              Madrid|         Spain|  South|OFF-ST-10003455|Office Supplies|     Storage|Fellowes Lockers,...|559.791|       3|     0.1|99.441|\n",
            "|  9052|ES-2014-2736116|29/06/2014|06/07/2014|Standard Class|   DR-12940|      Daniel Raglin|Home Office|         Berlin|              Berlin|       Germany|Central|FUR-BO-10001133|      Furniture|   Bookcases|Ikea Classic Book...|662.832|       2|     0.2|99.372|\n",
            "|   610|ES-2016-4895029|19/02/2016|22/02/2016|  Second Class|   MM-17260|    Magdelene Morse|   Consumer|     Argenteuil|       Ile-de-France|        France|Central|OFF-ST-10003111|Office Supplies|     Storage|Eldon Trays, Sing...|  388.8|       9|     0.1| 99.36|\n",
            "|  5405|IT-2017-1036058|29/09/2017|03/10/2017|Standard Class|   KC-16255|     Karen Carlisle|  Corporate|       Duisburg|North Rhine-Westp...|       Germany|Central|TEC-PH-10000270|     Technology|      Phones|Apple Office Tele...| 261.48|       4|       0| 99.36|\n",
            "|  4372|ES-2017-2992535|15/09/2017|21/09/2017|Standard Class|   TS-21205|        Thomas Seio|  Corporate|       Brighton|             England|United Kingdom|  North|TEC-MA-10002043|     Technology|    Machines|Epson Receipt Pri...| 230.88|       2|       0| 99.24|\n",
            "|  5915|ES-2016-3845157|10/09/2016|14/09/2016|  Second Class|   VP-21730|       Victor Preis|Home Office|          Leeds|             England|United Kingdom|  North|TEC-MA-10002043|     Technology|    Machines|Epson Receipt Pri...| 230.88|       2|       0| 99.24|\n",
            "|  7871|ES-2015-4070273|17/11/2015|21/11/2015|Standard Class|   MS-17365|Maribeth Schnelling|   Consumer|          Milan|            Lombardy|         Italy|  South|TEC-AC-10000394|     Technology| Accessories|Belkin Numeric Ke...|    231|       4|       0| 99.24|\n",
            "|  8823|ES-2014-2681822|03/09/2014|03/09/2014|      Same Day|   CM-11830|     Cari MacIntyre|  Corporate|Friedrichshafen|   Baden-Württemberg|       Germany|Central|FUR-CH-10001674|      Furniture|      Chairs|Office Star Chair...|307.395|       5|     0.1|99.045|\n",
            "|  4005|ES-2015-5600285|05/09/2015|05/09/2015|      Same Day|   BD-11620|    Brian DeCherney|   Consumer|         Vienna|              Vienna|       Austria|Central|FUR-FU-10004422|      Furniture| Furnishings|Advantus Photo Fr...|  206.4|       4|       0|    99|\n",
            "|   706|ES-2015-2309141|03/03/2015|05/03/2015|   First Class|   RA-19285|       Ralph Arnett|   Consumer|    Puertollano|   Castile-La Mancha|         Spain|  South|TEC-CO-10001008|     Technology|     Copiers|Canon Fax and Cop...|2104.74|      11|       0|989.01|\n",
            "|  5668|IT-2017-2700287|07/07/2017|10/07/2017|  Second Class|   BP-11095|       Bart Pistole|  Corporate|          Trier|Rhineland-Palatinate|       Germany|Central|OFF-AP-10001568|Office Supplies|  Appliances|Hamilton Beach To...| 262.17|       5|     0.1| 98.97|\n",
            "|   794|ES-2017-5710826|30/12/2017|02/01/2018|  Second Class|   MB-17305|    Maria Bertelson|   Consumer|        Bourges| Centre-Val de Loire|        France|Central|FUR-BO-10003541|      Furniture|   Bookcases|Bush Classic Book...|370.926|       1|     0.1|98.886|\n",
            "|  4038|ES-2016-5523206|05/06/2016|11/06/2016|Standard Class|   TH-21115|      Thea Hudgings|  Corporate|         Vienna|              Vienna|       Austria|Central|OFF-AP-10000228|Office Supplies|  Appliances|Cuisinart Blender...| 260.52|       4|       0| 98.88|\n",
            "|  5313|ES-2015-3750420|04/12/2015|09/12/2015|Standard Class|   MG-17680|  Maureen Gastineau|Home Office|         Vienna|              Vienna|       Austria|Central|TEC-AC-10001100|     Technology| Accessories|Logitech Router, ...| 1236.6|       5|       0| 98.85|\n",
            "|  6173|ES-2015-4130389|21/09/2015|25/09/2015|Standard Class|   FA-14230|     Frank Atkinson|  Corporate|          Bondy|       Ile-de-France|        France|Central|OFF-FA-10002066|Office Supplies|   Fasteners|OIC Clamps, Bulk ...|  197.7|      10|       0|  98.7|\n",
            "+------+---------------+----------+----------+--------------+-----------+-------------------+-----------+---------------+--------------------+--------------+-------+---------------+---------------+------------+--------------------+-------+--------+--------+------+\n",
            "only showing top 20 rows\n",
            "\n"
          ]
        }
      ],
      "source": [
        "# who are the top 5 most profitable customers\n",
        "\n",
        "df.orderBy(col(\"Profit\").desc()).show()"
      ]
    },
    {
      "cell_type": "code",
      "execution_count": null,
      "id": "8d0fc034",
      "metadata": {
        "colab": {
          "base_uri": "https://localhost:8080/"
        },
        "id": "8d0fc034",
        "outputId": "3e2486e2-a260-4b74-99d0-c2a9ab686ef4"
      },
      "outputs": [
        {
          "output_type": "stream",
          "name": "stdout",
          "text": [
            "+------+---------------+----------+----------+--------------+-----------+----------------+-----------+-------------+--------------------+--------------+-------+---------------+---------------+------------+--------------------+--------+--------+--------+-------+------------------+\n",
            "|Row ID|       Order ID|Order Date| Ship Date|     Ship Mode|Customer ID|   Customer Name|    Segment|         City|               State|       Country| Region|     Product ID|       Category|Sub-Category|        Product Name|   Sales|Quantity|Discount| Profit|         no_profit|\n",
            "+------+---------------+----------+----------+--------------+-----------+----------------+-----------+-------------+--------------------+--------------+-------+---------------+---------------+------------+--------------------+--------+--------+--------+-------+------------------+\n",
            "|     1|ES-2017-1311038|07/02/2017|11/02/2017|Standard Class|   AS-10045|  Aaron Smayling|  Corporate|        Leeds|             England|United Kingdom|  North|OFF-ST-10000988|Office Supplies|     Storage|Fellowes Folders,...|    79.2|       3|       0|   39.6|              79.2|\n",
            "|     2|ES-2017-1311038|07/02/2017|11/02/2017|Standard Class|   AS-10045|  Aaron Smayling|  Corporate|        Leeds|             England|United Kingdom|  North|TEC-AC-10004144|     Technology| Accessories|SanDisk Numeric K...|  388.92|       7|       0|      0|            388.92|\n",
            "|     3|ES-2017-1311038|07/02/2017|11/02/2017|Standard Class|   AS-10045|  Aaron Smayling|  Corporate|        Leeds|             England|United Kingdom|  North|OFF-LA-10001915|Office Supplies|      Labels|Avery Legal Exhib...|   35.19|       3|       0|  16.11|             35.19|\n",
            "|     4|ES-2017-1311038|07/02/2017|11/02/2017|Standard Class|   AS-10045|  Aaron Smayling|  Corporate|        Leeds|             England|United Kingdom|  North|OFF-ST-10004550|Office Supplies|     Storage|Fellowes Folders,...|   50.94|       2|       0|   13.2|             50.94|\n",
            "|     5|ES-2017-1311038|07/02/2017|11/02/2017|Standard Class|   AS-10045|  Aaron Smayling|  Corporate|        Leeds|             England|United Kingdom|  North|TEC-AC-10004068|     Technology| Accessories|Memorex Memory Ca...|  307.44|       3|       0|  73.71|            307.44|\n",
            "|     6|ES-2017-1311038|07/02/2017|11/02/2017|Standard Class|   AS-10045|  Aaron Smayling|  Corporate|        Leeds|             England|United Kingdom|  North|OFF-ST-10002271|Office Supplies|     Storage|Rogers Shelving, ...|   122.4|       2|       0|  37.92|             122.4|\n",
            "|     7|ES-2017-1311038|07/02/2017|11/02/2017|Standard Class|   AS-10045|  Aaron Smayling|  Corporate|        Leeds|             England|United Kingdom|  North|TEC-PH-10003963|     Technology|      Phones|Apple Signal Boos...|  413.82|       3|       0|  20.61|            413.82|\n",
            "|     8|ES-2015-5113958|02/08/2015|07/08/2015|  Second Class|   EB-13840|   Ellis Ballard|  Corporate|West Bromwich|             England|United Kingdom|  North|TEC-CO-10004325|     Technology|     Copiers|Canon Personal Co...|  428.22|       3|       0| 192.69|            428.22|\n",
            "|     9|ES-2015-5113958|02/08/2015|07/08/2015|  Second Class|   EB-13840|   Ellis Ballard|  Corporate|West Bromwich|             England|United Kingdom|  North|OFF-AP-10004512|Office Supplies|  Appliances|   Hoover Stove, Red| 3979.29|       7|       0|1989.54|           3979.29|\n",
            "|    10|ES-2015-5113958|02/08/2015|07/08/2015|  Second Class|   EB-13840|   Ellis Ballard|  Corporate|West Bromwich|             England|United Kingdom|  North|OFF-FA-10002393|Office Supplies|   Fasteners|Accos Push Pins, ...|   43.56|       3|       0|   12.6|             43.56|\n",
            "|    11|ES-2015-2510515|20/06/2015|20/06/2015|      Same Day|   LH-17155|Logan Haushalter|   Consumer|   Le Bouscat|Aquitaine-Limousi...|        France|Central|OFF-LA-10002805|Office Supplies|      Labels|Hon Color Coded L...|   25.26|       2|       0|   0.48|             25.26|\n",
            "|    12|ES-2015-2510515|20/06/2015|20/06/2015|      Same Day|   LH-17155|Logan Haushalter|   Consumer|   Le Bouscat|Aquitaine-Limousi...|        France|Central|OFF-AP-10002330|Office Supplies|  Appliances|Hamilton Beach St...|2443.905|       5|     0.1|760.305|2715.4500000000003|\n",
            "|    13|ES-2015-2510515|20/06/2015|20/06/2015|      Same Day|   LH-17155|Logan Haushalter|   Consumer|   Le Bouscat|Aquitaine-Limousi...|        France|Central|OFF-AR-10000505|Office Supplies|         Art|Binney & Smith Pe...|   12.21|       1|       0|      0|             12.21|\n",
            "|    14|ES-2015-2510515|20/06/2015|20/06/2015|      Same Day|   LH-17155|Logan Haushalter|   Consumer|   Le Bouscat|Aquitaine-Limousi...|        France|Central|TEC-PH-10002898|     Technology|      Phones|Samsung Smart Pho...|2167.296|       4|    0.15|790.416|2549.7599999999998|\n",
            "|    15|ES-2015-2510515|20/06/2015|20/06/2015|      Same Day|   LH-17155|Logan Haushalter|   Consumer|   Le Bouscat|Aquitaine-Limousi...|        France|Central|OFF-ST-10001413|Office Supplies|     Storage|Rogers Folders, Blue| 138.105|       5|     0.1|-12.345|            153.45|\n",
            "|    16|ES-2016-4380115|16/02/2016|20/02/2016|Standard Class|   KC-16540| Kelly Collister|   Consumer|   Strasbourg|Alsace-Champagne-...|        France|Central|OFF-ST-10003931|Office Supplies|     Storage|Smead Trays, Wire...| 128.385|       3|     0.1|  4.275|142.64999999999998|\n",
            "|    17|ES-2016-4380115|16/02/2016|20/02/2016|Standard Class|   KC-16540| Kelly Collister|   Consumer|   Strasbourg|Alsace-Champagne-...|        France|Central|TEC-AC-10004269|     Technology| Accessories|Belkin Memory Car...|  690.12|       6|       0|      0|            690.12|\n",
            "|    18|ES-2016-4380115|16/02/2016|20/02/2016|Standard Class|   KC-16540| Kelly Collister|   Consumer|   Strasbourg|Alsace-Champagne-...|        France|Central|OFF-LA-10001676|Office Supplies|      Labels|Hon Removable Lab...|    8.16|       1|       0|   1.14|              8.16|\n",
            "|    19|ES-2017-2573330|03/11/2017|08/11/2017|Standard Class|   BF-11170|      Ben Ferrer|Home Office|         Unna|North Rhine-Westp...|       Germany|Central|TEC-MA-10000811|     Technology|    Machines|Okidata Phone, Du...|  347.88|       4|       0|  76.44|            347.88|\n",
            "|    20|ES-2017-2573330|03/11/2017|08/11/2017|Standard Class|   BF-11170|      Ben Ferrer|Home Office|         Unna|North Rhine-Westp...|       Germany|Central|OFF-ST-10000648|Office Supplies|     Storage|Eldon File Cart, ...| 575.505|       5|     0.1| 12.705| 639.4499999999999|\n",
            "+------+---------------+----------+----------+--------------+-----------+----------------+-----------+-------------+--------------------+--------------+-------+---------------+---------------+------------+--------------------+--------+--------+--------+-------+------------------+\n",
            "only showing top 20 rows\n",
            "\n"
          ]
        }
      ],
      "source": [
        "# create a new column which is the value of the sale were there not discount applied. Hint: orginal = sales/(1-d)\n",
        "df =   df.withColumn(\"no_profit\", col(\"Sales\") / (1 - col(\"Discount\")))\n",
        "df.show()"
      ]
    },
    {
      "cell_type": "code",
      "execution_count": null,
      "id": "0fb49200",
      "metadata": {
        "id": "0fb49200"
      },
      "outputs": [],
      "source": [
        "# create a temporary table for our superstore table in sql\n",
        "df.registerTempTable(\"data\")"
      ]
    },
    {
      "cell_type": "code",
      "execution_count": null,
      "id": "a23e0bca",
      "metadata": {
        "colab": {
          "base_uri": "https://localhost:8080/"
        },
        "id": "a23e0bca",
        "outputId": "965627d4-96f0-4e7b-8d1c-a0f03038d6ca"
      },
      "outputs": [
        {
          "output_type": "stream",
          "name": "stdout",
          "text": [
            "+--------+\n",
            "|count(1)|\n",
            "+--------+\n",
            "|   10000|\n",
            "+--------+\n",
            "\n"
          ]
        }
      ],
      "source": [
        "# use an SQL query to count the number of rows\n",
        "spark.sql(\"Select count(*) from data\").show()"
      ]
    },
    {
      "cell_type": "code",
      "execution_count": null,
      "id": "8e2cf9f2",
      "metadata": {
        "colab": {
          "base_uri": "https://localhost:8080/"
        },
        "id": "8e2cf9f2",
        "outputId": "211211a9-6e74-4edc-c3c2-d2da2f1bc022"
      },
      "outputs": [
        {
          "output_type": "stream",
          "name": "stdout",
          "text": [
            "+--------------+--------------------------+\n",
            "|       Country|(sum(Profit) / sum(Sales))|\n",
            "+--------------+--------------------------+\n",
            "|        Sweden|       -0.5745674280714466|\n",
            "|       Germany|       0.17066792076621765|\n",
            "|        France|       0.12693568221933804|\n",
            "|       Belgium|       0.23508766583987942|\n",
            "|       Finland|       0.18864296633316185|\n",
            "|         Italy|       0.06844355185424991|\n",
            "|        Norway|        0.2517747548521659|\n",
            "|         Spain|       0.18941580658358978|\n",
            "|       Denmark|       -0.4957190005664471|\n",
            "|       Ireland|      -0.44426677493909256|\n",
            "|   Switzerland|        0.2909201193350232|\n",
            "|      Portugal|       -0.5761662270806188|\n",
            "|       Austria|        0.2641908775042505|\n",
            "|United Kingdom|       0.21170103540397134|\n",
            "|   Netherlands|       -0.5298342790541865|\n",
            "+--------------+--------------------------+\n",
            "\n"
          ]
        }
      ],
      "source": [
        "# Use an SQL query to calculate the profit ratio for each country: hint, ratio is sum(profit)/sum(sales)\n",
        "spark.sql(\"Select Country, sum(Profit)/sum(Sales) from data group by Country\").show()"
      ]
    },
    {
      "cell_type": "code",
      "execution_count": null,
      "id": "f8cdd772",
      "metadata": {
        "colab": {
          "base_uri": "https://localhost:8080/"
        },
        "id": "f8cdd772",
        "outputId": "511ec37f-bf69-484c-957c-fcbb032d53a7"
      },
      "outputs": [
        {
          "output_type": "stream",
          "name": "stdout",
          "text": [
            "+--------------+-------------------+\n",
            "|       Country|        sum(Profit)|\n",
            "+--------------+-------------------+\n",
            "|        Sweden|-17519.366999999987|\n",
            "|       Germany| 107322.82049999991|\n",
            "|        France| 109029.00299999975|\n",
            "|       Belgium|           11572.59|\n",
            "|       Finland|            3905.73|\n",
            "|         Italy| 19828.757999999965|\n",
            "|        Norway|            5167.77|\n",
            "|         Spain|  54390.11999999999|\n",
            "|       Denmark|-4282.0470000000005|\n",
            "|       Ireland| -7392.381000000003|\n",
            "|   Switzerland|  7237.470000000001|\n",
            "|      Portugal| -8703.059999999998|\n",
            "|       Austria|           21442.26|\n",
            "|United Kingdom| 111900.15000000001|\n",
            "|   Netherlands| -41070.07499999996|\n",
            "+--------------+-------------------+\n",
            "\n"
          ]
        }
      ],
      "source": [
        "# is the country with the largest profit ratio, the country with the largest profit?\n",
        "spark.sql(\"Select Country, sum(Profit) from data group by Country\").show()\n"
      ]
    }
  ],
  "metadata": {
    "kernelspec": {
      "display_name": "Python 3 (ipykernel)",
      "language": "python",
      "name": "python3"
    },
    "language_info": {
      "codemirror_mode": {
        "name": "ipython",
        "version": 3
      },
      "file_extension": ".py",
      "mimetype": "text/x-python",
      "name": "python",
      "nbconvert_exporter": "python",
      "pygments_lexer": "ipython3",
      "version": "3.9.7"
    },
    "colab": {
      "provenance": []
    }
  },
  "nbformat": 4,
  "nbformat_minor": 5
}